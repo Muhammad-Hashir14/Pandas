{
 "cells": [
  {
   "cell_type": "markdown",
   "id": "331eda22",
   "metadata": {},
   "source": [
    "# Importing Pandas"
   ]
  },
  {
   "cell_type": "code",
   "execution_count": 1,
   "id": "1a0b2bae",
   "metadata": {},
   "outputs": [],
   "source": [
    "import pandas as pd"
   ]
  },
  {
   "cell_type": "markdown",
   "id": "ff377231",
   "metadata": {},
   "source": [
    "# Making Series in pandas"
   ]
  },
  {
   "cell_type": "code",
   "execution_count": 2,
   "id": "e2462787",
   "metadata": {},
   "outputs": [],
   "source": [
    "import numpy as np"
   ]
  },
  {
   "cell_type": "code",
   "execution_count": 3,
   "id": "a959e007",
   "metadata": {},
   "outputs": [],
   "source": [
    "a = np.arange(12)"
   ]
  },
  {
   "cell_type": "code",
   "execution_count": 4,
   "id": "66e0e97a",
   "metadata": {},
   "outputs": [
    {
     "data": {
      "text/plain": [
       "array([ 0,  1,  2,  3,  4,  5,  6,  7,  8,  9, 10, 11])"
      ]
     },
     "execution_count": 4,
     "metadata": {},
     "output_type": "execute_result"
    }
   ],
   "source": [
    "a"
   ]
  },
  {
   "cell_type": "code",
   "execution_count": 5,
   "id": "aa032d6d",
   "metadata": {},
   "outputs": [],
   "source": [
    "ser = pd.Series(a)"
   ]
  },
  {
   "cell_type": "code",
   "execution_count": 6,
   "id": "f0c05ca0",
   "metadata": {},
   "outputs": [
    {
     "data": {
      "text/plain": [
       "0      0\n",
       "1      1\n",
       "2      2\n",
       "3      3\n",
       "4      4\n",
       "5      5\n",
       "6      6\n",
       "7      7\n",
       "8      8\n",
       "9      9\n",
       "10    10\n",
       "11    11\n",
       "dtype: int32"
      ]
     },
     "execution_count": 6,
     "metadata": {},
     "output_type": "execute_result"
    }
   ],
   "source": [
    "ser"
   ]
  },
  {
   "cell_type": "code",
   "execution_count": 12,
   "id": "3b8a6aff",
   "metadata": {},
   "outputs": [
    {
     "data": {
      "text/plain": [
       "RangeIndex(start=0, stop=12, step=1)"
      ]
     },
     "execution_count": 12,
     "metadata": {},
     "output_type": "execute_result"
    }
   ],
   "source": [
    "ser.index"
   ]
  },
  {
   "cell_type": "code",
   "execution_count": 14,
   "id": "71bfe2cd",
   "metadata": {},
   "outputs": [],
   "source": [
    "ser.index = ['1','2','3','4','5','6','7',\n",
    "          '8','9','10','11','12']"
   ]
  },
  {
   "cell_type": "code",
   "execution_count": 15,
   "id": "5674d873",
   "metadata": {},
   "outputs": [
    {
     "data": {
      "text/plain": [
       "1      0\n",
       "2      1\n",
       "3      2\n",
       "4      3\n",
       "5      4\n",
       "6      5\n",
       "7      6\n",
       "8      7\n",
       "9      8\n",
       "10     9\n",
       "11    10\n",
       "12    11\n",
       "dtype: int32"
      ]
     },
     "execution_count": 15,
     "metadata": {},
     "output_type": "execute_result"
    }
   ],
   "source": [
    "ser"
   ]
  },
  {
   "cell_type": "code",
   "execution_count": 24,
   "id": "02312a7c",
   "metadata": {},
   "outputs": [],
   "source": [
    "ser.index = ['A','B','C','D','E','F','G','H','I','j','k','l']"
   ]
  },
  {
   "cell_type": "code",
   "execution_count": 25,
   "id": "b26330da",
   "metadata": {},
   "outputs": [
    {
     "data": {
      "text/plain": [
       "A     0\n",
       "B     1\n",
       "C     2\n",
       "D     3\n",
       "E     4\n",
       "F     5\n",
       "G     6\n",
       "H     7\n",
       "I     8\n",
       "j     9\n",
       "k    10\n",
       "l    11\n",
       "dtype: int32"
      ]
     },
     "execution_count": 25,
     "metadata": {},
     "output_type": "execute_result"
    }
   ],
   "source": [
    "ser"
   ]
  },
  {
   "cell_type": "code",
   "execution_count": 26,
   "id": "2d05f8be",
   "metadata": {},
   "outputs": [
    {
     "data": {
      "text/plain": [
       "A     0\n",
       "C     2\n",
       "E     4\n",
       "G     6\n",
       "I     8\n",
       "k    10\n",
       "dtype: int32"
      ]
     },
     "execution_count": 26,
     "metadata": {},
     "output_type": "execute_result"
    }
   ],
   "source": [
    "ser[ser%2 == 0]"
   ]
  },
  {
   "cell_type": "code",
   "execution_count": 28,
   "id": "705ec244",
   "metadata": {},
   "outputs": [
    {
     "data": {
      "text/plain": [
       "A    0\n",
       "B    1\n",
       "C    2\n",
       "D    3\n",
       "E    4\n",
       "dtype: int32"
      ]
     },
     "execution_count": 28,
     "metadata": {},
     "output_type": "execute_result"
    }
   ],
   "source": [
    "ser.head()"
   ]
  },
  {
   "cell_type": "code",
   "execution_count": 29,
   "id": "3381f925",
   "metadata": {},
   "outputs": [
    {
     "data": {
      "text/plain": [
       "H     7\n",
       "I     8\n",
       "j     9\n",
       "k    10\n",
       "l    11\n",
       "dtype: int32"
      ]
     },
     "execution_count": 29,
     "metadata": {},
     "output_type": "execute_result"
    }
   ],
   "source": [
    "ser.tail()"
   ]
  },
  {
   "cell_type": "code",
   "execution_count": 31,
   "id": "99f895f2",
   "metadata": {},
   "outputs": [
    {
     "data": {
      "text/plain": [
       "66"
      ]
     },
     "execution_count": 31,
     "metadata": {},
     "output_type": "execute_result"
    }
   ],
   "source": [
    "ser.sum()"
   ]
  },
  {
   "cell_type": "code",
   "execution_count": 32,
   "id": "844be156",
   "metadata": {},
   "outputs": [
    {
     "data": {
      "text/plain": [
       "0"
      ]
     },
     "execution_count": 32,
     "metadata": {},
     "output_type": "execute_result"
    }
   ],
   "source": [
    "ser.A"
   ]
  },
  {
   "cell_type": "code",
   "execution_count": 33,
   "id": "e1944924",
   "metadata": {},
   "outputs": [
    {
     "data": {
      "text/plain": [
       "1"
      ]
     },
     "execution_count": 33,
     "metadata": {},
     "output_type": "execute_result"
    }
   ],
   "source": [
    "ser.B"
   ]
  },
  {
   "cell_type": "code",
   "execution_count": 34,
   "id": "3f63a3f1",
   "metadata": {},
   "outputs": [
    {
     "data": {
      "text/plain": [
       "10"
      ]
     },
     "execution_count": 34,
     "metadata": {},
     "output_type": "execute_result"
    }
   ],
   "source": [
    "ser.k"
   ]
  },
  {
   "cell_type": "code",
   "execution_count": 43,
   "id": "d37cdf6a",
   "metadata": {},
   "outputs": [
    {
     "data": {
      "text/plain": [
       "A      0\n",
       "B     10\n",
       "C     20\n",
       "D     30\n",
       "E     40\n",
       "F     50\n",
       "G     60\n",
       "H     70\n",
       "I     80\n",
       "j     90\n",
       "k    100\n",
       "l    110\n",
       "dtype: int32"
      ]
     },
     "execution_count": 43,
     "metadata": {},
     "output_type": "execute_result"
    }
   ],
   "source": [
    "ser.multiply(10)"
   ]
  },
  {
   "cell_type": "code",
   "execution_count": 44,
   "id": "6a37a897",
   "metadata": {},
   "outputs": [
    {
     "data": {
      "text/plain": [
       "G     6\n",
       "H     7\n",
       "I     8\n",
       "j     9\n",
       "k    10\n",
       "l    11\n",
       "dtype: int32"
      ]
     },
     "execution_count": 44,
     "metadata": {},
     "output_type": "execute_result"
    }
   ],
   "source": [
    "ser[ser> 5]"
   ]
  },
  {
   "cell_type": "code",
   "execution_count": 45,
   "id": "7ef562c2",
   "metadata": {},
   "outputs": [],
   "source": [
    "ser[4] =12"
   ]
  },
  {
   "cell_type": "code",
   "execution_count": 46,
   "id": "3d3979f9",
   "metadata": {},
   "outputs": [
    {
     "data": {
      "text/plain": [
       "A     0\n",
       "B     1\n",
       "C     2\n",
       "D     3\n",
       "E    12\n",
       "F     5\n",
       "G     6\n",
       "H     7\n",
       "I     8\n",
       "j     9\n",
       "k    10\n",
       "l    11\n",
       "dtype: int32"
      ]
     },
     "execution_count": 46,
     "metadata": {},
     "output_type": "execute_result"
    }
   ],
   "source": [
    "ser"
   ]
  },
  {
   "cell_type": "code",
   "execution_count": 47,
   "id": "84a0de5c",
   "metadata": {},
   "outputs": [
    {
     "data": {
      "text/plain": [
       "A     0\n",
       "B     1\n",
       "C     2\n",
       "D     3\n",
       "F     5\n",
       "G     6\n",
       "H     7\n",
       "I     8\n",
       "j     9\n",
       "k    10\n",
       "l    11\n",
       "E    12\n",
       "dtype: int32"
      ]
     },
     "execution_count": 47,
     "metadata": {},
     "output_type": "execute_result"
    }
   ],
   "source": [
    "ser.sort_values()"
   ]
  },
  {
   "cell_type": "code",
   "execution_count": 52,
   "id": "0161ad45",
   "metadata": {},
   "outputs": [],
   "source": [
    "ser.drop('B' ,inplace=True)"
   ]
  },
  {
   "cell_type": "code",
   "execution_count": 53,
   "id": "037bde3f",
   "metadata": {},
   "outputs": [
    {
     "data": {
      "text/plain": [
       "A     0\n",
       "C     2\n",
       "D     3\n",
       "E    12\n",
       "F     5\n",
       "G     6\n",
       "H     7\n",
       "I     8\n",
       "j     9\n",
       "k    10\n",
       "l    11\n",
       "dtype: int32"
      ]
     },
     "execution_count": 53,
     "metadata": {},
     "output_type": "execute_result"
    }
   ],
   "source": [
    "ser"
   ]
  },
  {
   "cell_type": "code",
   "execution_count": 55,
   "id": "542f2e44",
   "metadata": {},
   "outputs": [
    {
     "data": {
      "text/plain": [
       "6.636363636363637"
      ]
     },
     "execution_count": 55,
     "metadata": {},
     "output_type": "execute_result"
    }
   ],
   "source": [
    "ser.mean()"
   ]
  },
  {
   "cell_type": "code",
   "execution_count": 57,
   "id": "06e0e9ce",
   "metadata": {},
   "outputs": [
    {
     "data": {
      "text/plain": [
       "7.0"
      ]
     },
     "execution_count": 57,
     "metadata": {},
     "output_type": "execute_result"
    }
   ],
   "source": [
    "ser.median()"
   ]
  },
  {
   "cell_type": "code",
   "execution_count": 59,
   "id": "64dc8793",
   "metadata": {},
   "outputs": [
    {
     "data": {
      "text/plain": [
       "0      0\n",
       "1      2\n",
       "2      3\n",
       "3      5\n",
       "4      6\n",
       "5      7\n",
       "6      8\n",
       "7      9\n",
       "8     10\n",
       "9     11\n",
       "10    12\n",
       "dtype: int32"
      ]
     },
     "execution_count": 59,
     "metadata": {},
     "output_type": "execute_result"
    }
   ],
   "source": [
    "ser.mode()"
   ]
  },
  {
   "cell_type": "code",
   "execution_count": 60,
   "id": "06d8b87a",
   "metadata": {},
   "outputs": [
    {
     "data": {
      "text/plain": [
       "A    13\n",
       "C    15\n",
       "D    16\n",
       "E    25\n",
       "F    18\n",
       "G    19\n",
       "H    20\n",
       "I    21\n",
       "j    22\n",
       "k    23\n",
       "l    24\n",
       "dtype: int32"
      ]
     },
     "execution_count": 60,
     "metadata": {},
     "output_type": "execute_result"
    }
   ],
   "source": [
    "ser.add(13)"
   ]
  },
  {
   "cell_type": "code",
   "execution_count": 62,
   "id": "213aa6f9",
   "metadata": {},
   "outputs": [
    {
     "data": {
      "text/plain": [
       "Index(['A', 'C', 'D', 'E', 'F', 'G', 'H', 'I', 'j', 'k', 'l'], dtype='object')"
      ]
     },
     "execution_count": 62,
     "metadata": {},
     "output_type": "execute_result"
    }
   ],
   "source": [
    "ser.index"
   ]
  },
  {
   "cell_type": "code",
   "execution_count": 65,
   "id": "c8d1e24b",
   "metadata": {},
   "outputs": [
    {
     "data": {
      "text/plain": [
       "(11,)"
      ]
     },
     "execution_count": 65,
     "metadata": {},
     "output_type": "execute_result"
    }
   ],
   "source": [
    "ser.shape"
   ]
  },
  {
   "cell_type": "code",
   "execution_count": 74,
   "id": "d3170059",
   "metadata": {},
   "outputs": [],
   "source": [
    "ser.index = range(0,11)"
   ]
  },
  {
   "cell_type": "code",
   "execution_count": 75,
   "id": "f5d25421",
   "metadata": {},
   "outputs": [
    {
     "data": {
      "text/plain": [
       "0      0\n",
       "1      2\n",
       "2      3\n",
       "3     12\n",
       "4      5\n",
       "5      6\n",
       "6      7\n",
       "7      8\n",
       "8      9\n",
       "9     10\n",
       "10    11\n",
       "dtype: int32"
      ]
     },
     "execution_count": 75,
     "metadata": {},
     "output_type": "execute_result"
    }
   ],
   "source": [
    "ser"
   ]
  },
  {
   "cell_type": "code",
   "execution_count": 76,
   "id": "b755d897",
   "metadata": {},
   "outputs": [],
   "source": [
    "ser[12] = 23"
   ]
  },
  {
   "cell_type": "code",
   "execution_count": 77,
   "id": "e01b797c",
   "metadata": {},
   "outputs": [
    {
     "data": {
      "text/plain": [
       "0      0\n",
       "1      2\n",
       "2      3\n",
       "3     12\n",
       "4      5\n",
       "5      6\n",
       "6      7\n",
       "7      8\n",
       "8      9\n",
       "9     10\n",
       "10    11\n",
       "12    23\n",
       "dtype: int64"
      ]
     },
     "execution_count": 77,
     "metadata": {},
     "output_type": "execute_result"
    }
   ],
   "source": [
    "ser"
   ]
  },
  {
   "cell_type": "code",
   "execution_count": 78,
   "id": "d305effd",
   "metadata": {},
   "outputs": [],
   "source": [
    "ser[13] = 2"
   ]
  },
  {
   "cell_type": "code",
   "execution_count": 80,
   "id": "4348a375",
   "metadata": {},
   "outputs": [
    {
     "data": {
      "text/plain": [
       "0    2\n",
       "dtype: int64"
      ]
     },
     "execution_count": 80,
     "metadata": {},
     "output_type": "execute_result"
    }
   ],
   "source": [
    "ser.mode()"
   ]
  },
  {
   "cell_type": "code",
   "execution_count": 81,
   "id": "299566b4",
   "metadata": {},
   "outputs": [
    {
     "data": {
      "text/plain": [
       "5.966788424484657"
      ]
     },
     "execution_count": 81,
     "metadata": {},
     "output_type": "execute_result"
    }
   ],
   "source": [
    "ser.std()"
   ]
  },
  {
   "cell_type": "code",
   "execution_count": 84,
   "id": "7405b5f7",
   "metadata": {},
   "outputs": [
    {
     "data": {
      "text/plain": [
       "23"
      ]
     },
     "execution_count": 84,
     "metadata": {},
     "output_type": "execute_result"
    }
   ],
   "source": [
    "ser.max()"
   ]
  },
  {
   "cell_type": "code",
   "execution_count": 85,
   "id": "5755e52a",
   "metadata": {},
   "outputs": [
    {
     "data": {
      "text/plain": [
       "0"
      ]
     },
     "execution_count": 85,
     "metadata": {},
     "output_type": "execute_result"
    }
   ],
   "source": [
    "ser.min()"
   ]
  },
  {
   "cell_type": "code",
   "execution_count": 87,
   "id": "1375c8b6",
   "metadata": {},
   "outputs": [
    {
     "name": "stdout",
     "output_type": "stream",
     "text": [
      "<class 'pandas.core.series.Series'>\n",
      "Int64Index: 13 entries, 0 to 13\n",
      "Series name: None\n",
      "Non-Null Count  Dtype\n",
      "--------------  -----\n",
      "13 non-null     int64\n",
      "dtypes: int64(1)\n",
      "memory usage: 208.0 bytes\n"
     ]
    }
   ],
   "source": [
    "ser.info()"
   ]
  },
  {
   "cell_type": "code",
   "execution_count": 88,
   "id": "7a6c84d8",
   "metadata": {},
   "outputs": [
    {
     "data": {
      "text/plain": [
       "0     False\n",
       "1     False\n",
       "2     False\n",
       "3     False\n",
       "4     False\n",
       "5     False\n",
       "6     False\n",
       "7     False\n",
       "8     False\n",
       "9     False\n",
       "10    False\n",
       "12    False\n",
       "13    False\n",
       "dtype: bool"
      ]
     },
     "execution_count": 88,
     "metadata": {},
     "output_type": "execute_result"
    }
   ],
   "source": [
    "ser.isna()"
   ]
  },
  {
   "cell_type": "code",
   "execution_count": 89,
   "id": "8d9e819f",
   "metadata": {},
   "outputs": [
    {
     "data": {
      "text/plain": [
       "0     True\n",
       "1     True\n",
       "2     True\n",
       "3     True\n",
       "4     True\n",
       "5     True\n",
       "6     True\n",
       "7     True\n",
       "8     True\n",
       "9     True\n",
       "10    True\n",
       "12    True\n",
       "13    True\n",
       "dtype: bool"
      ]
     },
     "execution_count": 89,
     "metadata": {},
     "output_type": "execute_result"
    }
   ],
   "source": [
    "ser.notna()"
   ]
  },
  {
   "cell_type": "code",
   "execution_count": 90,
   "id": "d24d1313",
   "metadata": {},
   "outputs": [
    {
     "data": {
      "text/plain": [
       "23"
      ]
     },
     "execution_count": 90,
     "metadata": {},
     "output_type": "execute_result"
    }
   ],
   "source": [
    "ser.loc[12]"
   ]
  },
  {
   "cell_type": "code",
   "execution_count": 91,
   "id": "a342196e",
   "metadata": {},
   "outputs": [
    {
     "data": {
      "text/plain": [
       "2"
      ]
     },
     "execution_count": 91,
     "metadata": {},
     "output_type": "execute_result"
    }
   ],
   "source": [
    "ser.iloc[12]"
   ]
  },
  {
   "cell_type": "code",
   "execution_count": 122,
   "id": "843fbb10",
   "metadata": {},
   "outputs": [],
   "source": [
    "arr = np.linspace(0,20,11)"
   ]
  },
  {
   "cell_type": "code",
   "execution_count": 123,
   "id": "9b9fe417",
   "metadata": {},
   "outputs": [],
   "source": [
    "arr =  arr.astype('int64')"
   ]
  },
  {
   "cell_type": "code",
   "execution_count": 124,
   "id": "35784edd",
   "metadata": {},
   "outputs": [
    {
     "data": {
      "text/plain": [
       "array([ 0,  2,  4,  6,  8, 10, 12, 14, 16, 18, 20], dtype=int64)"
      ]
     },
     "execution_count": 124,
     "metadata": {},
     "output_type": "execute_result"
    }
   ],
   "source": [
    "arr"
   ]
  },
  {
   "cell_type": "code",
   "execution_count": 125,
   "id": "615c19f7",
   "metadata": {},
   "outputs": [],
   "source": [
    "arr = pd.Series(arr)"
   ]
  },
  {
   "cell_type": "code",
   "execution_count": 126,
   "id": "e26064cd",
   "metadata": {},
   "outputs": [
    {
     "data": {
      "text/plain": [
       "0      0\n",
       "1      2\n",
       "2      4\n",
       "3      6\n",
       "4      8\n",
       "5     10\n",
       "6     12\n",
       "7     14\n",
       "8     16\n",
       "9     18\n",
       "10    20\n",
       "dtype: int64"
      ]
     },
     "execution_count": 126,
     "metadata": {},
     "output_type": "execute_result"
    }
   ],
   "source": [
    "arr"
   ]
  },
  {
   "cell_type": "code",
   "execution_count": 130,
   "id": "41e30b1c",
   "metadata": {},
   "outputs": [
    {
     "data": {
      "text/plain": [
       "0      0\n",
       "1      2\n",
       "2      4\n",
       "3      6\n",
       "4      8\n",
       "5     10\n",
       "6     12\n",
       "7     14\n",
       "8     16\n",
       "9     18\n",
       "10    20\n",
       "dtype: int64"
      ]
     },
     "metadata": {},
     "output_type": "display_data"
    },
    {
     "data": {
      "text/plain": [
       "0      0\n",
       "1      2\n",
       "2      3\n",
       "3     12\n",
       "4      5\n",
       "5      6\n",
       "6      7\n",
       "7      8\n",
       "8      9\n",
       "9     10\n",
       "10    11\n",
       "12    23\n",
       "13     2\n",
       "dtype: int64"
      ]
     },
     "metadata": {},
     "output_type": "display_data"
    }
   ],
   "source": [
    "display(arr)\n",
    "display(ser)\n",
    "arse = arr.add(ser)"
   ]
  },
  {
   "cell_type": "code",
   "execution_count": 131,
   "id": "f7cf8dae",
   "metadata": {},
   "outputs": [
    {
     "data": {
      "text/plain": [
       "0      0.0\n",
       "1      4.0\n",
       "2      7.0\n",
       "3     18.0\n",
       "4     13.0\n",
       "5     16.0\n",
       "6     19.0\n",
       "7     22.0\n",
       "8     25.0\n",
       "9     28.0\n",
       "10    31.0\n",
       "12     NaN\n",
       "13     NaN\n",
       "dtype: float64"
      ]
     },
     "execution_count": 131,
     "metadata": {},
     "output_type": "execute_result"
    }
   ],
   "source": [
    "arse"
   ]
  },
  {
   "cell_type": "code",
   "execution_count": 133,
   "id": "79a62b7b",
   "metadata": {},
   "outputs": [
    {
     "data": {
      "text/plain": [
       "0     False\n",
       "1     False\n",
       "2     False\n",
       "3     False\n",
       "4     False\n",
       "5     False\n",
       "6     False\n",
       "7     False\n",
       "8     False\n",
       "9     False\n",
       "10    False\n",
       "12     True\n",
       "13     True\n",
       "dtype: bool"
      ]
     },
     "execution_count": 133,
     "metadata": {},
     "output_type": "execute_result"
    }
   ],
   "source": [
    "arse.isna()"
   ]
  },
  {
   "cell_type": "code",
   "execution_count": 134,
   "id": "168d3208",
   "metadata": {},
   "outputs": [
    {
     "data": {
      "text/plain": [
       "0      0.0\n",
       "1      4.0\n",
       "2      7.0\n",
       "3     18.0\n",
       "4     13.0\n",
       "5     16.0\n",
       "6     19.0\n",
       "7     22.0\n",
       "8     25.0\n",
       "9     28.0\n",
       "10    31.0\n",
       "dtype: float64"
      ]
     },
     "execution_count": 134,
     "metadata": {},
     "output_type": "execute_result"
    }
   ],
   "source": [
    "arse.dropna()"
   ]
  },
  {
   "cell_type": "code",
   "execution_count": 141,
   "id": "c7a8203f",
   "metadata": {},
   "outputs": [],
   "source": [
    "arse.dropna(inplace=True)"
   ]
  },
  {
   "cell_type": "code",
   "execution_count": 142,
   "id": "74a51709",
   "metadata": {},
   "outputs": [
    {
     "data": {
      "text/plain": [
       "0      0.0\n",
       "1      4.0\n",
       "2      7.0\n",
       "3     18.0\n",
       "4     13.0\n",
       "5     16.0\n",
       "6     19.0\n",
       "7     22.0\n",
       "8     25.0\n",
       "9     28.0\n",
       "10    31.0\n",
       "dtype: float64"
      ]
     },
     "execution_count": 142,
     "metadata": {},
     "output_type": "execute_result"
    }
   ],
   "source": [
    "arse"
   ]
  },
  {
   "cell_type": "code",
   "execution_count": 143,
   "id": "c2589ec4",
   "metadata": {},
   "outputs": [],
   "source": [
    "arse = arse.astype('int64')"
   ]
  },
  {
   "cell_type": "code",
   "execution_count": 144,
   "id": "4775fd4f",
   "metadata": {},
   "outputs": [
    {
     "data": {
      "text/plain": [
       "0      0\n",
       "1      4\n",
       "2      7\n",
       "3     18\n",
       "4     13\n",
       "5     16\n",
       "6     19\n",
       "7     22\n",
       "8     25\n",
       "9     28\n",
       "10    31\n",
       "dtype: int64"
      ]
     },
     "execution_count": 144,
     "metadata": {},
     "output_type": "execute_result"
    }
   ],
   "source": [
    "arse"
   ]
  },
  {
   "cell_type": "code",
   "execution_count": 147,
   "id": "fcf0aa7c",
   "metadata": {},
   "outputs": [
    {
     "data": {
      "text/plain": [
       "0       0\n",
       "1      16\n",
       "2      49\n",
       "3     324\n",
       "4     169\n",
       "5     256\n",
       "6     361\n",
       "7     484\n",
       "8     625\n",
       "9     784\n",
       "10    961\n",
       "dtype: int64"
      ]
     },
     "execution_count": 147,
     "metadata": {},
     "output_type": "execute_result"
    }
   ],
   "source": [
    "arse.pow(2)"
   ]
  },
  {
   "cell_type": "code",
   "execution_count": 152,
   "id": "a46dc843",
   "metadata": {},
   "outputs": [
    {
     "data": {
      "text/plain": [
       "True"
      ]
     },
     "execution_count": 152,
     "metadata": {},
     "output_type": "execute_result"
    }
   ],
   "source": [
    "arse.is_unique"
   ]
  },
  {
   "cell_type": "code",
   "execution_count": 155,
   "id": "1e0da34f",
   "metadata": {},
   "outputs": [
    {
     "data": {
      "text/plain": [
       "0      True\n",
       "1      True\n",
       "2     False\n",
       "3      True\n",
       "4     False\n",
       "5      True\n",
       "6     False\n",
       "7     False\n",
       "8     False\n",
       "9     False\n",
       "10    False\n",
       "dtype: bool"
      ]
     },
     "execution_count": 155,
     "metadata": {},
     "output_type": "execute_result"
    }
   ],
   "source": [
    "arse.isin(arr)"
   ]
  },
  {
   "cell_type": "code",
   "execution_count": 156,
   "id": "cfdb74a6",
   "metadata": {},
   "outputs": [
    {
     "data": {
      "text/plain": [
       "0     0\n",
       "1     4\n",
       "3    18\n",
       "5    16\n",
       "dtype: int64"
      ]
     },
     "execution_count": 156,
     "metadata": {},
     "output_type": "execute_result"
    }
   ],
   "source": [
    "arse[arse.isin(arr)]"
   ]
  }
 ],
 "metadata": {
  "kernelspec": {
   "display_name": "Python 3 (ipykernel)",
   "language": "python",
   "name": "python3"
  },
  "language_info": {
   "codemirror_mode": {
    "name": "ipython",
    "version": 3
   },
   "file_extension": ".py",
   "mimetype": "text/x-python",
   "name": "python",
   "nbconvert_exporter": "python",
   "pygments_lexer": "ipython3",
   "version": "3.9.12"
  }
 },
 "nbformat": 4,
 "nbformat_minor": 5
}
